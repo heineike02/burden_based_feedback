{
 "cells": [
  {
   "cell_type": "code",
   "execution_count": 4,
   "metadata": {},
   "outputs": [
    {
     "name": "stdout",
     "output_type": "stream",
     "text": [
      "The autoreload extension is already loaded. To reload it, use:\n",
      "  %reload_ext autoreload\n"
     ]
    }
   ],
   "source": [
    "import numpy as np\n",
    "import scipy.integrate as spi\n",
    "import matplotlib.pyplot as plt\n",
    "\n",
    "import sys\n",
    "base_dir = \"C:\\\\Users\\\\heine\\\\github\\\\burden_based_feedback\"\n",
    "\n",
    "if sys.path[-1] != base_dir:\n",
    "    sys.path.append(base_dir)\n",
    "    print(\"Added \" + base_dir + \" to path: \" )\n",
    "    print(sys.path)\n",
    "\n",
    "from core import burden_feedback_functions\n",
    "\n",
    "import os\n",
    "\n",
    "\n",
    "%load_ext autoreload\n",
    "%autoreload 2\n",
    "%matplotlib inline\n"
   ]
  },
  {
   "cell_type": "markdown",
   "metadata": {},
   "source": [
    "This has a rough implementation of the Batch Fed model from Kulhman et al 1998.  \n",
    "\n",
    "To Add: \n",
    "    A model of product formation (depending on biomass concentration and substrate) \n",
    "    Add a burden based feedback strain (higher growth rate, lower product production)\n",
    "        When is this advantageous (what relationship between growth rate and product production?)\n",
    "    Add concentration based production switch (Prather lab) \n",
    "    Add a cheater at some time, a new population is introduced that grows faster and produces less product (in a sense this is burden based feedback control)\n",
    "    The possibility of removing some volume when a max volume is reached\n",
    "\n",
    "To think about: \n",
    "    Are these realistic parameters? "
   ]
  },
  {
   "cell_type": "code",
   "execution_count": 43,
   "metadata": {},
   "outputs": [],
   "source": [
    "#Parameters\n",
    "Sf = 10\n",
    "Y = 0.5\n",
    "mu_max = 1.\n",
    "K = 0.03\n",
    "params = (Sf, Y, mu_max, K)\n",
    "\n",
    "#initial conditions\n",
    "X0 = 1.0\n",
    "S0 = 0.0\n",
    "\n",
    "#Max volume should be 5L\n",
    "V0 = 1.0\n",
    "\n",
    "init = (X0, S0, V0)\n",
    "\n",
    "#options for solver\n",
    "t_span = (0,1.0)\n",
    "N_points = 40\n",
    "\n",
    "\n",
    "res = spi.solve_ivp(fun = lambda t, y: burden_feedback_functions.fed_batch_kuhlman(t, ind_vars, params),\n",
    "          t_span = t_span,\n",
    "          y0 = init, \n",
    "          t_eval = np.linspace(t_span[0],t_span[1],N_points))"
   ]
  },
  {
   "cell_type": "code",
   "execution_count": 44,
   "metadata": {},
   "outputs": [
    {
     "data": {
      "text/plain": [
       "(-8, 8)"
      ]
     },
     "execution_count": 44,
     "metadata": {},
     "output_type": "execute_result"
    },
    {
     "data": {
      "image/png": "[encoded data removed]",
      "text/plain": [
       "<matplotlib.figure.Figure at 0x277d14842b0>"
      ]
     },
     "metadata": {},
     "output_type": "display_data"
    }
   ],
   "source": [
    "fig, ax = plt.subplots(1, 1, figsize=(8, 4))\n",
    "\n",
    "ax.plot(res.t, res.y[0,:], '-', mew=1, ms=8,\n",
    "            mec='w', label='X')\n",
    "\n",
    "ax.plot(res.t, res.y[1,:], '-', mew=1, ms=8,\n",
    "            mec='w', label='S')\n",
    "\n",
    "ax.plot(res.t, res.y[2,:], '-', mew=1, ms=8,\n",
    "            mec='w', label='V')\n",
    "\n",
    "ax.legend()\n",
    "ax.set_xlim(t_span[0], t_span[1])\n",
    "ax.set_ylim(-8, 8)"
   ]
  }
 ],
 "metadata": {
  "kernelspec": {
   "display_name": "Python 3",
   "language": "python",
   "name": "python3"
  },
  "language_info": {
   "codemirror_mode": {
    "name": "ipython",
    "version": 3
   },
   "file_extension": ".py",
   "mimetype": "text/x-python",
   "name": "python",
   "nbconvert_exporter": "python",
   "pygments_lexer": "ipython3",
   "version": "3.6.2"
  }
 },
 "nbformat": 4,
 "nbformat_minor": 2
}
